from random import choice

A = choice([7, 3, 2, 6.5, 0])
try:
    print(f"Що буде якщо 10/{A} = ", 10/A, "?")
    raise TypeError("Це навмисно створена помилка ")
except (ZeroDivisionError, TypeError) as e:
    print("Відбулася помилка, і ми її помітили ", e)

Що буде якщо 10/2 =  5.0 ?
Відбулася помилка, і ми її помітили  Це навмисно створена помилка 
